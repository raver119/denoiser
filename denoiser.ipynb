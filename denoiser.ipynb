{
 "cells": [
  {
   "cell_type": "code",
   "execution_count": 127,
   "metadata": {
    "collapsed": true
   },
   "outputs": [],
   "source": [
    "import tensorflow as tf\n",
    "import tensorflow.keras as k\n",
    "import numpy as np\n",
    "from PIL import Image\n",
    "import random\n",
    "from IPython.display import display\n",
    "\n",
    "\n",
    "def add_noise(array: np.ndarray, dropout_rate: float = 0.10) -> np.ndarray:\n",
    "    \"\"\"\n",
    "    This function adds noise\n",
    "    :param array:\n",
    "    :param dropout_rate: percent of pixels to be dropped\n",
    "    :return:\n",
    "    \"\"\"\n",
    "    assert len(array.shape) == 4\n",
    "    assert array.shape[1] == 3\n",
    "\n",
    "    channels = array.shape[1]\n",
    "    height = array.shape[2]\n",
    "    width = array.shape[3]\n",
    "\n",
    "    total_pixels = height * width\n",
    "    queued_pixels = int(total_pixels * dropout_rate)\n",
    "\n",
    "    filled_pixels = 0\n",
    "    while filled_pixels < queued_pixels:\n",
    "        d_h = random.randint(1, 3)\n",
    "        d_w = random.randint(1, 3)\n",
    "        filled_pixels += d_h * d_w\n",
    "        h = random.randint(0, height - d_h)\n",
    "        w = random.randint(0, width - d_w)\n",
    "\n",
    "        # now overwrite selected pixels with random dark color\n",
    "        array[:, :, h:h+d_h, w:w+d_w] = random.randint(1, 25) / 255.0\n",
    "\n",
    "    return array\n",
    "\n",
    "\n",
    "def array_to_image(array: np.ndarray):\n",
    "    \"\"\"\n",
    "    This function converts NumPy array to image\n",
    "    :param array:\n",
    "    :return:\n",
    "    \"\"\"\n",
    "    assert len(array.shape) == 4\n",
    "    assert array.shape[1] == 1 or array.shape[1] == 3\n",
    "\n",
    "    scaled = (array * 255.0).astype(np.uint8)\n",
    "    if array.shape[1] == 1:\n",
    "        reshaped = scaled.reshape((array.shape[2], array.shape[3]))\n",
    "        return Image.fromarray(reshaped,\"L\")\n",
    "    else:\n",
    "        reshaped = scaled.reshape((3, array.shape[2], array.shape[3])).transpose([1, 2, 0])\n",
    "        return Image.fromarray(reshaped,\"RGB\")\n",
    "\n",
    "\n",
    "def image_to_array(image) -> np.ndarray:\n",
    "    \"\"\"\n",
    "    This function converts image to NumPy array\n",
    "    :param image:\n",
    "    :return:\n",
    "    \"\"\"\n",
    "    return np.expand_dims(np.asarray(image), 0).astype(np.float) / 255.0\n",
    "\n",
    "\n",
    "def sample_grayscale(filepath: str, height: int = 128, width: int = 128) -> np.ndarray:\n",
    "    \"\"\"\n",
    "    This method samples patch out of image\n",
    "    :param filepath:\n",
    "    :param height:\n",
    "    :param width:\n",
    "    :return:\n",
    "    \"\"\"\n",
    "    image = Image.open(filepath)\n",
    "    grayscale = image.convert('L')\n",
    "    g_array = np.expand_dims(np.asarray(grayscale), 0).astype(dtype=np.float32) / 255.0\n",
    "    g_array = np.expand_dims(g_array, 0)\n",
    "    h = random.randint(0, g_array.shape[2] - height)\n",
    "    w = random.randint(0, g_array.shape[3] - width)\n",
    "    return g_array[:, :, h:h+height, w:w+width]\n",
    "\n",
    "\n",
    "def sample_rgb(filepath: str, height: int = 128, width: int = 128) -> np.ndarray:\n",
    "    \"\"\"\n",
    "    This method samples patch out of image\n",
    "    :param filepath:\n",
    "    :param height:\n",
    "    :param width:\n",
    "    :return:\n",
    "    \"\"\"\n",
    "    image = Image.open(filepath)\n",
    "    rgb_array = np.expand_dims(np.asarray(image).transpose([2, 0, 1]), 0).astype(dtype=np.float32) / 255.0\n",
    "    h = random.randint(0, rgb_array.shape[2] - height)\n",
    "    w = random.randint(0, rgb_array.shape[3] - width)\n",
    "    return rgb_array[:, :, h:h+height, w:w+width]\n",
    "\n"
   ]
  },
  {
   "cell_type": "code",
   "execution_count": 161,
   "outputs": [
    {
     "data": {
      "text/plain": "'Original image:'"
     },
     "metadata": {},
     "output_type": "display_data"
    },
    {
     "data": {
      "text/plain": "<PIL.Image.Image image mode=RGB size=64x64 at 0x7FBDC3013550>",
      "image/png": "[encoded data removed]"
     },
     "metadata": {},
     "output_type": "display_data"
    },
    {
     "data": {
      "text/plain": "'Noisy image:'"
     },
     "metadata": {},
     "output_type": "display_data"
    },
    {
     "data": {
      "text/plain": "<PIL.Image.Image image mode=RGB size=64x64 at 0x7FBDC3018390>",
      "image/png": "[encoded data removed]"
     },
     "metadata": {},
     "output_type": "display_data"
    },
    {
     "data": {
      "text/plain": "'Denoised image:'"
     },
     "metadata": {},
     "output_type": "display_data"
    },
    {
     "data": {
      "text/plain": "<PIL.Image.Image image mode=RGB size=64x64 at 0x7FBDC3194390>",
      "image/png": "[encoded data removed]"
     },
     "metadata": {},
     "output_type": "display_data"
    }
   ],
   "source": [
    "original = sample_rgb(\"/data/px/frames/Desperado/output140.jpg\", 64, 64)\n",
    "original_image = array_to_image(original)\n",
    "input = add_noise(original, 0.30)\n",
    "input_image = array_to_image(input)\n",
    "\n",
    "display(\"Original image:\")\n",
    "display(original_image)\n",
    "\n",
    "display(\"Noisy image:\")\n",
    "display(input_image)\n",
    "\n",
    "model = k.models.load_model(\"/data/models/denoiser.h5\")\n",
    "result = model.predict(input)\n",
    "\n",
    "output = array_to_image(result)\n",
    "display(\"Denoised image:\")\n",
    "display(output)"
   ],
   "metadata": {
    "collapsed": false,
    "pycharm": {
     "name": "#%%\n"
    }
   }
  }
 ],
 "metadata": {
  "kernelspec": {
   "display_name": "Python 3",
   "language": "python",
   "name": "python3"
  },
  "language_info": {
   "codemirror_mode": {
    "name": "ipython",
    "version": 2
   },
   "file_extension": ".py",
   "mimetype": "text/x-python",
   "name": "python",
   "nbconvert_exporter": "python",
   "pygments_lexer": "ipython2",
   "version": "2.7.6"
  }
 },
 "nbformat": 4,
 "nbformat_minor": 0
}